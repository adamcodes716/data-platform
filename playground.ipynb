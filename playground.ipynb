{
 "cells": [
  {
   "cell_type": "code",
   "execution_count": 8,
   "metadata": {},
   "outputs": [
    {
     "ename": "ImportError",
     "evalue": "cannot import name 'NessieCatalog' from 'pyiceberg.catalog' (c:\\Projects\\WashU\\myenv\\Lib\\site-packages\\pyiceberg\\catalog\\__init__.py)",
     "output_type": "error",
     "traceback": [
      "\u001b[1;31m---------------------------------------------------------------------------\u001b[0m",
      "\u001b[1;31mImportError\u001b[0m                               Traceback (most recent call last)",
      "Cell \u001b[1;32mIn[8], line 1\u001b[0m\n\u001b[1;32m----> 1\u001b[0m \u001b[38;5;28;01mfrom\u001b[39;00m\u001b[38;5;250m \u001b[39m\u001b[38;5;21;01mpyiceberg\u001b[39;00m\u001b[38;5;21;01m.\u001b[39;00m\u001b[38;5;21;01mcatalog\u001b[39;00m\u001b[38;5;250m \u001b[39m\u001b[38;5;28;01mimport\u001b[39;00m NessieCatalog\n\u001b[0;32m      2\u001b[0m \u001b[38;5;28;01mfrom\u001b[39;00m\u001b[38;5;250m \u001b[39m\u001b[38;5;21;01mpyiceberg\u001b[39;00m\u001b[38;5;21;01m.\u001b[39;00m\u001b[38;5;21;01mschema\u001b[39;00m\u001b[38;5;250m \u001b[39m\u001b[38;5;28;01mimport\u001b[39;00m Schema, NestedField\n\u001b[0;32m      3\u001b[0m \u001b[38;5;28;01mfrom\u001b[39;00m\u001b[38;5;250m \u001b[39m\u001b[38;5;21;01mpyiceberg\u001b[39;00m\u001b[38;5;21;01m.\u001b[39;00m\u001b[38;5;21;01mtypes\u001b[39;00m\u001b[38;5;250m \u001b[39m\u001b[38;5;28;01mimport\u001b[39;00m StringType, IntegerType, DoubleType\n",
      "\u001b[1;31mImportError\u001b[0m: cannot import name 'NessieCatalog' from 'pyiceberg.catalog' (c:\\Projects\\WashU\\myenv\\Lib\\site-packages\\pyiceberg\\catalog\\__init__.py)"
     ]
    }
   ],
   "source": [
    "from pyiceberg.catalog import NessieCatalog\n",
    "from pyiceberg.schema import Schema, NestedField\n",
    "from pyiceberg.types import StringType, IntegerType, DoubleType\n",
    "import pyarrow as pa\n",
    "import pyarrow.parquet as pq\n",
    "import pandas as pd\n",
    "import boto3\n",
    "from io import BytesIO\n",
    "from pyiceberg.exceptions import NamespaceAlreadyExistsError, TableAlreadyExistsError\n",
    "\n",
    "# Define the warehouse path and catalog configuration\n",
    "warehouse_path = \"s3://warehouse\"\n",
    "catalog = NessieCatalog(\n",
    "    \"exampledb\",\n",
    "    **{\n",
    "        \"uri\": \"http://localhost:19120/api/v2\",  # Nessie Server URI\n",
    "        \"warehouse\": warehouse_path,\n",
    "        \"s3.endpoint\": \"http://localhost:9000\",\n",
    "        \"s3.region\": \"us-east-1\",\n",
    "        \"s3.access-key-id\": \"admin\",\n",
    "        \"s3.secret-access-key\": \"password\",\n",
    "    },\n",
    ")"
   ]
  },
  {
   "cell_type": "code",
   "execution_count": null,
   "metadata": {},
   "outputs": [],
   "source": [
    "p\n",
    "    print(f\"Namespace '{namespace}' created successfully.\")\n",
    "except NamespaceAlreadyExistsError:\n",
    "    print(f\"Namespace '{namespace}' already exists.\")\n",
    "\n",
    "# Define the schema for the table using NestedField\n",
    "schema = Schema(\n",
    "    NestedField(field_id=1, name=\"id\", field_type=IntegerType(), required=True),\n",
    "    NestedField(field_id=2, name=\"name\", field_type=StringType(), required=True),\n",
    "    NestedField(field_id=3, name=\"value\", field_type=DoubleType(), required=True)\n",
    ")"
   ]
  },
  {
   "cell_type": "code",
   "execution_count": null,
   "metadata": {},
   "outputs": [],
   "source": [
    "\n",
    "\n",
    "\n",
    "# Check if the table exists, and drop it if it does\n",
    "table_name = f\"{namespace}.messages\"\n",
    "if table_name in catalog.list_tables(namespace):\n",
    "    catalog.drop_table(table_name)\n",
    "    print(f\"Table '{table_name}' dropped successfully.\")\n",
    "\n",
    "# Create the table\n",
    "try:\n",
    "    table = catalog.create_table(table_name, schema=schema)\n",
    "    print(f\"Table '{table_name}' created successfully.\")\n",
    "except TableAlreadyExistsError:\n",
    "    print(f\"Table '{table_name}' already exists and could not be dropped.\")\n",
    "\n",
    "# Create a sample DataFrame\n",
    "data = {\n",
    "    \"id\": [1, 2, 3],\n",
    "    \"name\": [\"Alice\", \"Bob\", \"Charlie\"],\n",
    "    \"value\": [123.45, 678.90, 234.56]\n",
    "}\n",
    "df = pd.DataFrame(data)\n"
   ]
  },
  {
   "cell_type": "code",
   "execution_count": null,
   "metadata": {},
   "outputs": [],
   "source": [
    "\n",
    "\n",
    "# Convert the DataFrame to a Parquet file in memory\n",
    "parquet_buffer = BytesIO()\n",
    "df.to_parquet(parquet_buffer, index=False)\n",
    "parquet_buffer.seek(0)\n",
    "\n",
    "# Initialize the S3 client\n",
    "s3_client = boto3.client(\n",
    "    \"s3\",\n",
    "    aws_access_key_id=\"admin\",\n",
    "    aws_secret_access_key=\"password\",\n",
    "    endpoint_url=\"http://localhost:9000\",\n",
    "    region_name=\"us-east-1\"\n",
    ")\n",
    "\n",
    "# Upload the Parquet file to S3\n",
    "s3_client.put_object(Bucket=\"warehouse\", Key=f\"{namespace}/messages/data.parquet\", Body=parquet_buffer.getvalue())\n",
    "print(\"Data uploaded to S3 successfully.\")\n",
    "\n",
    "# Verify metadata in Dremio\n",
    "import requests\n",
    "\n",
    "dremio_url = \"http://localhost:9047/api/v3/catalog\"\n",
    "headers = {\n",
    "    \"Content-Type\": \"application/json\",\n",
    "    \"Authorization\": \"Basic \" + \"YOUR_BASE64_ENCODED_CREDENTIALS\"\n",
    "}\n",
    "\n",
    "response = requests.get(dremio_url, headers=headers)\n",
    "if response.status_code == 200:\n",
    "    print(\"Metadata for 'demosaturday.messages':\", response.json())\n",
    "else:\n",
    "    print(\"Failed to retrieve metadata from Dremio:\", response.text)"
   ]
  }
 ],
 "metadata": {
  "kernelspec": {
   "display_name": "myenv",
   "language": "python",
   "name": "python3"
  },
  "language_info": {
   "codemirror_mode": {
    "name": "ipython",
    "version": 3
   },
   "file_extension": ".py",
   "mimetype": "text/x-python",
   "name": "python",
   "nbconvert_exporter": "python",
   "pygments_lexer": "ipython3",
   "version": "3.12.0"
  }
 },
 "nbformat": 4,
 "nbformat_minor": 2
}
